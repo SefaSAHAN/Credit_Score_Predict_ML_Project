{
 "cells": [
  {
   "cell_type": "code",
   "execution_count": 1,
   "metadata": {},
   "outputs": [],
   "source": [
    "import pandas as pd\n",
    "from sklearn.model_selection import train_test_split\n",
    "from sklearn.linear_model import LogisticRegression\n",
    "from sklearn.svm import SVC\n",
    "from sklearn.naive_bayes import GaussianNB\n",
    "from sklearn.neighbors import KNeighborsClassifier\n",
    "from sklearn.neural_network import MLPClassifier\n",
    "from sklearn.ensemble import RandomForestClassifier\n",
    "from sklearn.ensemble import GradientBoostingClassifier\n",
    "from xgboost import XGBClassifier\n",
    "from lightgbm import LGBMClassifier\n",
    "from catboost import CatBoostClassifier\n",
    "from sklearn.tree import DecisionTreeClassifier\n",
    "from sklearn.metrics import accuracy_score\n",
    "import warnings\n",
    "warnings.filterwarnings(\"ignore\")\n",
    "\n",
    "# Load the dataset\n",
    "df = pd.read_csv(\"v1_train.csv\")"
   ]
  },
  {
   "cell_type": "code",
   "execution_count": 2,
   "metadata": {},
   "outputs": [
    {
     "name": "stdout",
     "output_type": "stream",
     "text": [
      "<class 'pandas.core.frame.DataFrame'>\n",
      "RangeIndex: 100000 entries, 0 to 99999\n",
      "Data columns (total 21 columns):\n",
      " #   Column                    Non-Null Count   Dtype  \n",
      "---  ------                    --------------   -----  \n",
      " 0   Age                       100000 non-null  float64\n",
      " 1   Monthly_Inhand_Salary     100000 non-null  float64\n",
      " 2   Num_Bank_Accounts         100000 non-null  int64  \n",
      " 3   Num_Credit_Card           100000 non-null  int64  \n",
      " 4   Interest_Rate             100000 non-null  int64  \n",
      " 5   Num_of_Loan               100000 non-null  int64  \n",
      " 6   Delay_from_due_date       100000 non-null  int64  \n",
      " 7   Num_of_Delayed_Payment    100000 non-null  float64\n",
      " 8   Changed_Credit_Limit      100000 non-null  float64\n",
      " 9   Num_Credit_Inquiries      100000 non-null  float64\n",
      " 10  Credit_Mix                100000 non-null  int64  \n",
      " 11  Outstanding_Debt          100000 non-null  float64\n",
      " 12  Credit_Utilization_Ratio  100000 non-null  float64\n",
      " 13  Credit_History_Age        100000 non-null  int64  \n",
      " 14  Payment_of_Min_Amount     100000 non-null  int64  \n",
      " 15  Total_EMI_per_month       100000 non-null  float64\n",
      " 16  Amount_invested_monthly   100000 non-null  float64\n",
      " 17  Monthly_Balance           100000 non-null  float64\n",
      " 18  Credit_Score              100000 non-null  int64  \n",
      " 19  Payment_Behaviour_Spent   100000 non-null  int64  \n",
      " 20  Payment_Behaviour_Value   100000 non-null  int64  \n",
      "dtypes: float64(10), int64(11)\n",
      "memory usage: 16.0 MB\n"
     ]
    }
   ],
   "source": [
    "df.info()\n"
   ]
  },
  {
   "cell_type": "code",
   "execution_count": 3,
   "metadata": {},
   "outputs": [
    {
     "data": {
      "text/plain": [
       "array([3, 2, 1], dtype=int64)"
      ]
     },
     "execution_count": 3,
     "metadata": {},
     "output_type": "execute_result"
    }
   ],
   "source": [
    "df[\"Credit_Score\"].unique()"
   ]
  },
  {
   "cell_type": "code",
   "execution_count": 4,
   "metadata": {},
   "outputs": [
    {
     "name": "stdout",
     "output_type": "stream",
     "text": [
      "Training Logistic Regression...\n",
      "Logistic Regression Accuracy: 0.5733\n",
      "Training Naive Bayes...\n",
      "Naive Bayes Accuracy: 0.6309\n",
      "Training K-Nearest Neighbors...\n",
      "K-Nearest Neighbors Accuracy: 0.6514\n",
      "Training Neural Network...\n",
      "Neural Network Accuracy: 0.6197\n",
      "Training Gradient Boosting Machines...\n",
      "Gradient Boosting Machines Accuracy: 0.6974\n",
      "Training LightGBM...\n",
      "LightGBM Accuracy: 0.7256\n",
      "Training Decision Trees...\n",
      "Decision Trees Accuracy: 0.6917\n",
      "Training CatBoost...\n",
      "CatBoost Accuracy: 0.7473\n",
      "Training Random Forest...\n",
      "Random Forest Accuracy: 0.7889\n"
     ]
    }
   ],
   "source": [
    "# Split the dataset into training and test sets\n",
    "X = df.drop(\"Credit_Score\", axis=1)\n",
    "y = df[\"Credit_Score\"]\n",
    "X_train, X_test, y_train, y_test = train_test_split(X, y, test_size=0.2, random_state=42)\n",
    "\n",
    "# Define the models\n",
    "models = [\n",
    "    (\"Logistic Regression\", LogisticRegression()),\n",
    "    (\"Naive Bayes\", GaussianNB()),\n",
    "    (\"K-Nearest Neighbors\", KNeighborsClassifier()),\n",
    "    (\"Neural Network\", MLPClassifier()),\n",
    "    (\"Gradient Boosting Machines\", GradientBoostingClassifier()),   \n",
    "    (\"LightGBM\", LGBMClassifier()),\n",
    "    (\"Decision Trees\", DecisionTreeClassifier()),\n",
    "    (\"CatBoost\", CatBoostClassifier(logging_level='Silent')),\n",
    "    (\"Random Forest\", RandomForestClassifier()),\n",
    "]\n",
    "\n",
    "# Train and evaluate each model\n",
    "for name, model in models:\n",
    "    print(f\"Training {name}...\")\n",
    "    model.fit(X_train, y_train)\n",
    "    y_pred = model.predict(X_test)\n",
    "    acc = accuracy_score(y_test, y_pred)\n",
    "    print(f\"{name} Accuracy: {acc:.4f}\")\n"
   ]
  },
  {
   "cell_type": "code",
   "execution_count": 5,
   "metadata": {},
   "outputs": [],
   "source": [
    "# Load the dataset\n",
    "df = pd.read_csv(\"v2_train.csv\")"
   ]
  },
  {
   "cell_type": "code",
   "execution_count": 6,
   "metadata": {},
   "outputs": [
    {
     "name": "stdout",
     "output_type": "stream",
     "text": [
      "Training Logistic Regression...\n",
      "Logistic Regression Accuracy: 0.5838\n",
      "Training Naive Bayes...\n",
      "Naive Bayes Accuracy: 0.6302\n",
      "Training K-Nearest Neighbors...\n",
      "K-Nearest Neighbors Accuracy: 0.6472\n",
      "Training Neural Network...\n",
      "Neural Network Accuracy: 0.5820\n",
      "Training Gradient Boosting Machines...\n",
      "Gradient Boosting Machines Accuracy: 0.6968\n",
      "Training LightGBM...\n",
      "LightGBM Accuracy: 0.7249\n",
      "Training Decision Trees...\n",
      "Decision Trees Accuracy: 0.6955\n",
      "Training CatBoost...\n",
      "CatBoost Accuracy: 0.7467\n",
      "Training Random Forest...\n",
      "Random Forest Accuracy: 0.7941\n"
     ]
    }
   ],
   "source": [
    "# Split the dataset into training and test sets\n",
    "X = df.drop(\"Credit_Score\", axis=1)\n",
    "y = df[\"Credit_Score\"]\n",
    "X_train, X_test, y_train, y_test = train_test_split(X, y, test_size=0.2, random_state=42)\n",
    "\n",
    "# Define the models\n",
    "models = [\n",
    "    (\"Logistic Regression\", LogisticRegression()),\n",
    "    (\"Naive Bayes\", GaussianNB()),\n",
    "    (\"K-Nearest Neighbors\", KNeighborsClassifier()),\n",
    "    (\"Neural Network\", MLPClassifier()),\n",
    "    (\"Gradient Boosting Machines\", GradientBoostingClassifier()),   \n",
    "    (\"LightGBM\", LGBMClassifier()),\n",
    "    (\"Decision Trees\", DecisionTreeClassifier()),\n",
    "    (\"CatBoost\", CatBoostClassifier(logging_level='Silent')),\n",
    "    (\"Random Forest\", RandomForestClassifier()),\n",
    "]\n",
    "\n",
    "# Train and evaluate each model\n",
    "for name, model in models:\n",
    "    print(f\"Training {name}...\")\n",
    "    model.fit(X_train, y_train)\n",
    "    y_pred = model.predict(X_test)\n",
    "    acc = accuracy_score(y_test, y_pred)\n",
    "    print(f\"{name} Accuracy: {acc:.4f}\")"
   ]
  },
  {
   "cell_type": "code",
   "execution_count": 9,
   "metadata": {},
   "outputs": [
    {
     "name": "stdout",
     "output_type": "stream",
     "text": [
      "Training Logistic Regression...\n",
      "Logistic Regression Accuracy: 0.6333\n",
      "Training Naive Bayes...\n",
      "Naive Bayes Accuracy: 0.6304\n",
      "Training K-Nearest Neighbors...\n",
      "K-Nearest Neighbors Accuracy: 0.7356\n",
      "Training SVM...\n"
     ]
    }
   ],
   "source": [
    "import pandas as pd\n",
    "import numpy as np\n",
    "from sklearn.model_selection import train_test_split\n",
    "from sklearn.preprocessing import StandardScaler\n",
    "from sklearn.pipeline import Pipeline\n",
    "from sklearn.linear_model import LogisticRegression\n",
    "from sklearn.naive_bayes import GaussianNB\n",
    "from sklearn.neighbors import KNeighborsClassifier\n",
    "from sklearn.svm import SVC, LinearSVC\n",
    "from sklearn.tree import DecisionTreeClassifier\n",
    "from sklearn.ensemble import RandomForestClassifier, GradientBoostingClassifier, AdaBoostClassifier\n",
    "from sklearn.neural_network import MLPClassifier\n",
    "from xgboost import XGBClassifier\n",
    "from lightgbm import LGBMClassifier\n",
    "from catboost import CatBoostClassifier\n",
    "from sklearn.metrics import accuracy_score\n",
    "\n",
    "# Load the dataset\n",
    "df = pd.read_csv(\"v2_train.csv\")\n",
    "\n",
    "# Split the dataset into training and test sets\n",
    "X = df.drop(\"Credit_Score\", axis=1)\n",
    "y = df[\"Credit_Score\"]\n",
    "X_train, X_test, y_train, y_test = train_test_split(X, y, test_size=0.2, random_state=42)\n",
    "\n",
    "# Define the models\n",
    "models = [\n",
    "    (\"Logistic Regression\", LogisticRegression()),\n",
    "    (\"Naive Bayes\", GaussianNB()),\n",
    "    (\"K-Nearest Neighbors\", KNeighborsClassifier()),\n",
    "    (\"SVM\", SVC()),\n",
    "    (\"Linear SVM\", LinearSVC()),\n",
    "    (\"Decision Trees\", DecisionTreeClassifier()),\n",
    "    (\"Random Forest\", RandomForestClassifier()),\n",
    "    (\"Gradient Boosting Machines\", GradientBoostingClassifier()),   \n",
    "    (\"AdaBoost\", AdaBoostClassifier()),\n",
    "    (\"Neural Network\", MLPClassifier()),\n",
    "    (\"XGBoost\", XGBClassifier()),\n",
    "    (\"LightGBM\", LGBMClassifier()),\n",
    "    (\"CatBoost\", CatBoostClassifier(logging_level='Silent')),\n",
    "]\n",
    "\n",
    "# Train and evaluate each model\n",
    "for name, model in models:\n",
    "    print(f\"Training {name}...\")\n",
    "    # Create a pipeline for each model to scale the features and fit the model\n",
    "    pipeline = Pipeline(steps=[(\"scaler\", StandardScaler()), (\"model\", model)])\n",
    "    pipeline.fit(X_train, y_train)\n",
    "    y_pred = pipeline.predict(X_test)\n",
    "    acc = accuracy_score(y_test, y_pred)\n",
    "    print(f\"{name} Accuracy: {acc:.4f}\")\n"
   ]
  }
 ],
 "metadata": {
  "kernelspec": {
   "display_name": "Python 3",
   "language": "python",
   "name": "python3"
  },
  "language_info": {
   "codemirror_mode": {
    "name": "ipython",
    "version": 3
   },
   "file_extension": ".py",
   "mimetype": "text/x-python",
   "name": "python",
   "nbconvert_exporter": "python",
   "pygments_lexer": "ipython3",
   "version": "3.10.6"
  },
  "orig_nbformat": 4
 },
 "nbformat": 4,
 "nbformat_minor": 2
}
